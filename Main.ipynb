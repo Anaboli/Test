{
 "cells": [
  {
   "cell_type": "code",
   "execution_count": 8,
   "id": "3a6e570a",
   "metadata": {},
   "outputs": [],
   "source": [
    "import gradio as gr"
   ]
  },
  {
   "cell_type": "code",
   "execution_count": 9,
   "id": "d1974a6d",
   "metadata": {},
   "outputs": [],
   "source": [
    "#nlp = spacy.load(\"C:\\\\Users\\\\Olive\\\\Desktop\\\\TMF632 NER deployment\")"
   ]
  },
  {
   "cell_type": "code",
   "execution_count": 14,
   "id": "3da6c29d",
   "metadata": {},
   "outputs": [],
   "source": [
    "\n",
    "def tmf632recognition(text):\n",
    "    \n",
    "    ausgabedict = {}\n",
    "    \n",
    "    doc = nlp(text)\n",
    "    for ent in doc.ents:\n",
    "        ausgabedict[ent.text] = ent.label_\n",
    "    \n",
    "    return ausgabedict "
   ]
  },
  {
   "cell_type": "code",
   "execution_count": 15,
   "id": "fa749ee2",
   "metadata": {},
   "outputs": [],
   "source": [
    "def test(text):\n",
    "    \n",
    "    return \"Hello\" + \"Text\""
   ]
  },
  {
   "cell_type": "code",
   "execution_count": 16,
   "id": "ac196e20",
   "metadata": {},
   "outputs": [
    {
     "name": "stdout",
     "output_type": "stream",
     "text": [
      "Running locally at: http://127.0.0.1:7863/\n",
      "To create a public link, set `share=True` in `launch()`.\n",
      "Interface loading below...\n"
     ]
    },
    {
     "data": {
      "text/html": [
       "\n",
       "        <iframe\n",
       "            width=\"900\"\n",
       "            height=\"500\"\n",
       "            src=\"http://127.0.0.1:7863/\"\n",
       "            frameborder=\"0\"\n",
       "            allowfullscreen\n",
       "        ></iframe>\n",
       "        "
      ],
      "text/plain": [
       "<IPython.lib.display.IFrame at 0x1c22ffa9640>"
      ]
     },
     "metadata": {},
     "output_type": "display_data"
    },
    {
     "data": {
      "text/plain": [
       "(<Flask 'gradio.networking'>, 'http://127.0.0.1:7863/', None)"
      ]
     },
     "execution_count": 16,
     "metadata": {},
     "output_type": "execute_result"
    }
   ],
   "source": [
    "output_text = gr.outputs.Textbox(label = \"Input mapped to TMF632 Variables\")\n",
    "input_text = gr.inputs.Textbox(label = \"Data for AI to detect TMF632 Variables\")\n",
    "\n",
    "gr.Interface(test,input_text, output_text).launch()\n",
    "\n",
    "#gr.Interface(fn=tmf632recognition, inputs=input, outputs=gr.outputs.Textbox(label=print(ent.text,\":mapped to:\",ent.label_))).launch(share=True)"
   ]
  },
  {
   "cell_type": "code",
   "execution_count": null,
   "id": "c2f66305",
   "metadata": {},
   "outputs": [],
   "source": []
  }
 ],
 "metadata": {
  "kernelspec": {
   "display_name": "Python 3 (ipykernel)",
   "language": "python",
   "name": "python3"
  },
  "language_info": {
   "codemirror_mode": {
    "name": "ipython",
    "version": 3
   },
   "file_extension": ".py",
   "mimetype": "text/x-python",
   "name": "python",
   "nbconvert_exporter": "python",
   "pygments_lexer": "ipython3",
   "version": "3.9.6"
  }
 },
 "nbformat": 4,
 "nbformat_minor": 5
}
